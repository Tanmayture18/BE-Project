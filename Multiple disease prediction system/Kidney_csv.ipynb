{
 "cells": [
  {
   "cell_type": "markdown",
   "id": "e138dc7a",
   "metadata": {},
   "source": [
    "### Importing required libraries"
   ]
  },
  {
   "cell_type": "code",
   "execution_count": 1,
   "id": "32154478",
   "metadata": {},
   "outputs": [],
   "source": [
    "import pandas as pd\n",
    "import numpy as np\n",
    "import matplotlib.pyplot as plt\n",
    "import warnings\n",
    "plt.style.use('ggplot')\n",
    "import seaborn as sns\n",
    "warnings.filterwarnings('ignore')"
   ]
  },
  {
   "cell_type": "markdown",
   "id": "1c61bfe0",
   "metadata": {},
   "source": [
    "### Importing dataset"
   ]
  },
  {
   "cell_type": "code",
   "execution_count": 2,
   "id": "df3753d1",
   "metadata": {},
   "outputs": [],
   "source": [
    "df=pd.read_csv('kidney_disease.csv')"
   ]
  },
  {
   "cell_type": "markdown",
   "id": "a94e0eab",
   "metadata": {},
   "source": [
    "### EDA"
   ]
  },
  {
   "cell_type": "code",
   "execution_count": 3,
   "id": "824abddb",
   "metadata": {},
   "outputs": [
    {
     "data": {
      "text/html": [
       "<div>\n",
       "<style scoped>\n",
       "    .dataframe tbody tr th:only-of-type {\n",
       "        vertical-align: middle;\n",
       "    }\n",
       "\n",
       "    .dataframe tbody tr th {\n",
       "        vertical-align: top;\n",
       "    }\n",
       "\n",
       "    .dataframe thead th {\n",
       "        text-align: right;\n",
       "    }\n",
       "</style>\n",
       "<table border=\"1\" class=\"dataframe\">\n",
       "  <thead>\n",
       "    <tr style=\"text-align: right;\">\n",
       "      <th></th>\n",
       "      <th>id</th>\n",
       "      <th>age</th>\n",
       "      <th>bp</th>\n",
       "      <th>sg</th>\n",
       "      <th>al</th>\n",
       "      <th>su</th>\n",
       "      <th>rbc</th>\n",
       "      <th>pc</th>\n",
       "      <th>pcc</th>\n",
       "      <th>ba</th>\n",
       "      <th>...</th>\n",
       "      <th>pcv</th>\n",
       "      <th>wc</th>\n",
       "      <th>rc</th>\n",
       "      <th>htn</th>\n",
       "      <th>dm</th>\n",
       "      <th>cad</th>\n",
       "      <th>appet</th>\n",
       "      <th>pe</th>\n",
       "      <th>ane</th>\n",
       "      <th>classification</th>\n",
       "    </tr>\n",
       "  </thead>\n",
       "  <tbody>\n",
       "    <tr>\n",
       "      <th>0</th>\n",
       "      <td>0</td>\n",
       "      <td>48.0</td>\n",
       "      <td>80.0</td>\n",
       "      <td>1.020</td>\n",
       "      <td>1.0</td>\n",
       "      <td>0.0</td>\n",
       "      <td>NaN</td>\n",
       "      <td>normal</td>\n",
       "      <td>notpresent</td>\n",
       "      <td>notpresent</td>\n",
       "      <td>...</td>\n",
       "      <td>44</td>\n",
       "      <td>7800</td>\n",
       "      <td>5.2</td>\n",
       "      <td>yes</td>\n",
       "      <td>yes</td>\n",
       "      <td>no</td>\n",
       "      <td>good</td>\n",
       "      <td>no</td>\n",
       "      <td>no</td>\n",
       "      <td>ckd</td>\n",
       "    </tr>\n",
       "    <tr>\n",
       "      <th>1</th>\n",
       "      <td>1</td>\n",
       "      <td>7.0</td>\n",
       "      <td>50.0</td>\n",
       "      <td>1.020</td>\n",
       "      <td>4.0</td>\n",
       "      <td>0.0</td>\n",
       "      <td>NaN</td>\n",
       "      <td>normal</td>\n",
       "      <td>notpresent</td>\n",
       "      <td>notpresent</td>\n",
       "      <td>...</td>\n",
       "      <td>38</td>\n",
       "      <td>6000</td>\n",
       "      <td>NaN</td>\n",
       "      <td>no</td>\n",
       "      <td>no</td>\n",
       "      <td>no</td>\n",
       "      <td>good</td>\n",
       "      <td>no</td>\n",
       "      <td>no</td>\n",
       "      <td>ckd</td>\n",
       "    </tr>\n",
       "    <tr>\n",
       "      <th>2</th>\n",
       "      <td>2</td>\n",
       "      <td>62.0</td>\n",
       "      <td>80.0</td>\n",
       "      <td>1.010</td>\n",
       "      <td>2.0</td>\n",
       "      <td>3.0</td>\n",
       "      <td>normal</td>\n",
       "      <td>normal</td>\n",
       "      <td>notpresent</td>\n",
       "      <td>notpresent</td>\n",
       "      <td>...</td>\n",
       "      <td>31</td>\n",
       "      <td>7500</td>\n",
       "      <td>NaN</td>\n",
       "      <td>no</td>\n",
       "      <td>yes</td>\n",
       "      <td>no</td>\n",
       "      <td>poor</td>\n",
       "      <td>no</td>\n",
       "      <td>yes</td>\n",
       "      <td>ckd</td>\n",
       "    </tr>\n",
       "    <tr>\n",
       "      <th>3</th>\n",
       "      <td>3</td>\n",
       "      <td>48.0</td>\n",
       "      <td>70.0</td>\n",
       "      <td>1.005</td>\n",
       "      <td>4.0</td>\n",
       "      <td>0.0</td>\n",
       "      <td>normal</td>\n",
       "      <td>abnormal</td>\n",
       "      <td>present</td>\n",
       "      <td>notpresent</td>\n",
       "      <td>...</td>\n",
       "      <td>32</td>\n",
       "      <td>6700</td>\n",
       "      <td>3.9</td>\n",
       "      <td>yes</td>\n",
       "      <td>no</td>\n",
       "      <td>no</td>\n",
       "      <td>poor</td>\n",
       "      <td>yes</td>\n",
       "      <td>yes</td>\n",
       "      <td>ckd</td>\n",
       "    </tr>\n",
       "    <tr>\n",
       "      <th>4</th>\n",
       "      <td>4</td>\n",
       "      <td>51.0</td>\n",
       "      <td>80.0</td>\n",
       "      <td>1.010</td>\n",
       "      <td>2.0</td>\n",
       "      <td>0.0</td>\n",
       "      <td>normal</td>\n",
       "      <td>normal</td>\n",
       "      <td>notpresent</td>\n",
       "      <td>notpresent</td>\n",
       "      <td>...</td>\n",
       "      <td>35</td>\n",
       "      <td>7300</td>\n",
       "      <td>4.6</td>\n",
       "      <td>no</td>\n",
       "      <td>no</td>\n",
       "      <td>no</td>\n",
       "      <td>good</td>\n",
       "      <td>no</td>\n",
       "      <td>no</td>\n",
       "      <td>ckd</td>\n",
       "    </tr>\n",
       "  </tbody>\n",
       "</table>\n",
       "<p>5 rows × 26 columns</p>\n",
       "</div>"
      ],
      "text/plain": [
       "   id   age    bp     sg   al   su     rbc        pc         pcc          ba  \\\n",
       "0   0  48.0  80.0  1.020  1.0  0.0     NaN    normal  notpresent  notpresent   \n",
       "1   1   7.0  50.0  1.020  4.0  0.0     NaN    normal  notpresent  notpresent   \n",
       "2   2  62.0  80.0  1.010  2.0  3.0  normal    normal  notpresent  notpresent   \n",
       "3   3  48.0  70.0  1.005  4.0  0.0  normal  abnormal     present  notpresent   \n",
       "4   4  51.0  80.0  1.010  2.0  0.0  normal    normal  notpresent  notpresent   \n",
       "\n",
       "   ...  pcv    wc   rc  htn   dm  cad appet   pe  ane classification  \n",
       "0  ...   44  7800  5.2  yes  yes   no  good   no   no            ckd  \n",
       "1  ...   38  6000  NaN   no   no   no  good   no   no            ckd  \n",
       "2  ...   31  7500  NaN   no  yes   no  poor   no  yes            ckd  \n",
       "3  ...   32  6700  3.9  yes   no   no  poor  yes  yes            ckd  \n",
       "4  ...   35  7300  4.6   no   no   no  good   no   no            ckd  \n",
       "\n",
       "[5 rows x 26 columns]"
      ]
     },
     "execution_count": 3,
     "metadata": {},
     "output_type": "execute_result"
    }
   ],
   "source": [
    "df.head()"
   ]
  },
  {
   "cell_type": "code",
   "execution_count": 4,
   "id": "beda7687",
   "metadata": {},
   "outputs": [
    {
     "data": {
      "text/plain": [
       "(400, 26)"
      ]
     },
     "execution_count": 4,
     "metadata": {},
     "output_type": "execute_result"
    }
   ],
   "source": [
    "df.shape"
   ]
  },
  {
   "cell_type": "code",
   "execution_count": 5,
   "id": "6ac8c3b6",
   "metadata": {},
   "outputs": [
    {
     "data": {
      "text/plain": [
       "Index(['id', 'age', 'bp', 'sg', 'al', 'su', 'rbc', 'pc', 'pcc', 'ba', 'bgr',\n",
       "       'bu', 'sc', 'sod', 'pot', 'hemo', 'pcv', 'wc', 'rc', 'htn', 'dm', 'cad',\n",
       "       'appet', 'pe', 'ane', 'classification'],\n",
       "      dtype='object')"
      ]
     },
     "execution_count": 5,
     "metadata": {},
     "output_type": "execute_result"
    }
   ],
   "source": [
    "df.columns"
   ]
  },
  {
   "cell_type": "code",
   "execution_count": 6,
   "id": "b9016f48",
   "metadata": {},
   "outputs": [],
   "source": [
    "### We are going to take useful features only\n",
    "df=df[['age','bp','al','su','rbc','bgr','bu','ba','hemo','wc','rc','htn','cad','classification']]"
   ]
  },
  {
   "cell_type": "code",
   "execution_count": 7,
   "id": "58b76dbc",
   "metadata": {},
   "outputs": [
    {
     "data": {
      "text/html": [
       "<div>\n",
       "<style scoped>\n",
       "    .dataframe tbody tr th:only-of-type {\n",
       "        vertical-align: middle;\n",
       "    }\n",
       "\n",
       "    .dataframe tbody tr th {\n",
       "        vertical-align: top;\n",
       "    }\n",
       "\n",
       "    .dataframe thead th {\n",
       "        text-align: right;\n",
       "    }\n",
       "</style>\n",
       "<table border=\"1\" class=\"dataframe\">\n",
       "  <thead>\n",
       "    <tr style=\"text-align: right;\">\n",
       "      <th></th>\n",
       "      <th>age</th>\n",
       "      <th>bp</th>\n",
       "      <th>al</th>\n",
       "      <th>su</th>\n",
       "      <th>rbc</th>\n",
       "      <th>bgr</th>\n",
       "      <th>bu</th>\n",
       "      <th>ba</th>\n",
       "      <th>hemo</th>\n",
       "      <th>wc</th>\n",
       "      <th>rc</th>\n",
       "      <th>htn</th>\n",
       "      <th>cad</th>\n",
       "      <th>classification</th>\n",
       "    </tr>\n",
       "  </thead>\n",
       "  <tbody>\n",
       "    <tr>\n",
       "      <th>0</th>\n",
       "      <td>48.0</td>\n",
       "      <td>80.0</td>\n",
       "      <td>1.0</td>\n",
       "      <td>0.0</td>\n",
       "      <td>NaN</td>\n",
       "      <td>121.0</td>\n",
       "      <td>36.0</td>\n",
       "      <td>notpresent</td>\n",
       "      <td>15.4</td>\n",
       "      <td>7800</td>\n",
       "      <td>5.2</td>\n",
       "      <td>yes</td>\n",
       "      <td>no</td>\n",
       "      <td>ckd</td>\n",
       "    </tr>\n",
       "    <tr>\n",
       "      <th>1</th>\n",
       "      <td>7.0</td>\n",
       "      <td>50.0</td>\n",
       "      <td>4.0</td>\n",
       "      <td>0.0</td>\n",
       "      <td>NaN</td>\n",
       "      <td>NaN</td>\n",
       "      <td>18.0</td>\n",
       "      <td>notpresent</td>\n",
       "      <td>11.3</td>\n",
       "      <td>6000</td>\n",
       "      <td>NaN</td>\n",
       "      <td>no</td>\n",
       "      <td>no</td>\n",
       "      <td>ckd</td>\n",
       "    </tr>\n",
       "    <tr>\n",
       "      <th>2</th>\n",
       "      <td>62.0</td>\n",
       "      <td>80.0</td>\n",
       "      <td>2.0</td>\n",
       "      <td>3.0</td>\n",
       "      <td>normal</td>\n",
       "      <td>423.0</td>\n",
       "      <td>53.0</td>\n",
       "      <td>notpresent</td>\n",
       "      <td>9.6</td>\n",
       "      <td>7500</td>\n",
       "      <td>NaN</td>\n",
       "      <td>no</td>\n",
       "      <td>no</td>\n",
       "      <td>ckd</td>\n",
       "    </tr>\n",
       "    <tr>\n",
       "      <th>3</th>\n",
       "      <td>48.0</td>\n",
       "      <td>70.0</td>\n",
       "      <td>4.0</td>\n",
       "      <td>0.0</td>\n",
       "      <td>normal</td>\n",
       "      <td>117.0</td>\n",
       "      <td>56.0</td>\n",
       "      <td>notpresent</td>\n",
       "      <td>11.2</td>\n",
       "      <td>6700</td>\n",
       "      <td>3.9</td>\n",
       "      <td>yes</td>\n",
       "      <td>no</td>\n",
       "      <td>ckd</td>\n",
       "    </tr>\n",
       "    <tr>\n",
       "      <th>4</th>\n",
       "      <td>51.0</td>\n",
       "      <td>80.0</td>\n",
       "      <td>2.0</td>\n",
       "      <td>0.0</td>\n",
       "      <td>normal</td>\n",
       "      <td>106.0</td>\n",
       "      <td>26.0</td>\n",
       "      <td>notpresent</td>\n",
       "      <td>11.6</td>\n",
       "      <td>7300</td>\n",
       "      <td>4.6</td>\n",
       "      <td>no</td>\n",
       "      <td>no</td>\n",
       "      <td>ckd</td>\n",
       "    </tr>\n",
       "  </tbody>\n",
       "</table>\n",
       "</div>"
      ],
      "text/plain": [
       "    age    bp   al   su     rbc    bgr    bu          ba  hemo    wc   rc  \\\n",
       "0  48.0  80.0  1.0  0.0     NaN  121.0  36.0  notpresent  15.4  7800  5.2   \n",
       "1   7.0  50.0  4.0  0.0     NaN    NaN  18.0  notpresent  11.3  6000  NaN   \n",
       "2  62.0  80.0  2.0  3.0  normal  423.0  53.0  notpresent   9.6  7500  NaN   \n",
       "3  48.0  70.0  4.0  0.0  normal  117.0  56.0  notpresent  11.2  6700  3.9   \n",
       "4  51.0  80.0  2.0  0.0  normal  106.0  26.0  notpresent  11.6  7300  4.6   \n",
       "\n",
       "   htn cad classification  \n",
       "0  yes  no            ckd  \n",
       "1   no  no            ckd  \n",
       "2   no  no            ckd  \n",
       "3  yes  no            ckd  \n",
       "4   no  no            ckd  "
      ]
     },
     "execution_count": 7,
     "metadata": {},
     "output_type": "execute_result"
    }
   ],
   "source": [
    "df.head()"
   ]
  },
  {
   "cell_type": "code",
   "execution_count": 8,
   "id": "394f7178",
   "metadata": {},
   "outputs": [
    {
     "data": {
      "text/plain": [
       "(400, 14)"
      ]
     },
     "execution_count": 8,
     "metadata": {},
     "output_type": "execute_result"
    }
   ],
   "source": [
    "df.shape"
   ]
  },
  {
   "cell_type": "code",
   "execution_count": 9,
   "id": "f717acc9",
   "metadata": {},
   "outputs": [
    {
     "data": {
      "text/html": [
       "<div>\n",
       "<style scoped>\n",
       "    .dataframe tbody tr th:only-of-type {\n",
       "        vertical-align: middle;\n",
       "    }\n",
       "\n",
       "    .dataframe tbody tr th {\n",
       "        vertical-align: top;\n",
       "    }\n",
       "\n",
       "    .dataframe thead th {\n",
       "        text-align: right;\n",
       "    }\n",
       "</style>\n",
       "<table border=\"1\" class=\"dataframe\">\n",
       "  <thead>\n",
       "    <tr style=\"text-align: right;\">\n",
       "      <th></th>\n",
       "      <th>age</th>\n",
       "      <th>bp</th>\n",
       "      <th>al</th>\n",
       "      <th>su</th>\n",
       "      <th>rbc</th>\n",
       "      <th>bgr</th>\n",
       "      <th>bu</th>\n",
       "      <th>ba</th>\n",
       "      <th>hemo</th>\n",
       "      <th>wc</th>\n",
       "      <th>rc</th>\n",
       "      <th>htn</th>\n",
       "      <th>cad</th>\n",
       "      <th>classification</th>\n",
       "    </tr>\n",
       "  </thead>\n",
       "  <tbody>\n",
       "    <tr>\n",
       "      <th>count</th>\n",
       "      <td>391.000000</td>\n",
       "      <td>388.000000</td>\n",
       "      <td>354.000000</td>\n",
       "      <td>351.000000</td>\n",
       "      <td>248</td>\n",
       "      <td>356.000000</td>\n",
       "      <td>381.000000</td>\n",
       "      <td>396</td>\n",
       "      <td>348.000000</td>\n",
       "      <td>295</td>\n",
       "      <td>270</td>\n",
       "      <td>398</td>\n",
       "      <td>398</td>\n",
       "      <td>400</td>\n",
       "    </tr>\n",
       "    <tr>\n",
       "      <th>unique</th>\n",
       "      <td>NaN</td>\n",
       "      <td>NaN</td>\n",
       "      <td>NaN</td>\n",
       "      <td>NaN</td>\n",
       "      <td>2</td>\n",
       "      <td>NaN</td>\n",
       "      <td>NaN</td>\n",
       "      <td>2</td>\n",
       "      <td>NaN</td>\n",
       "      <td>92</td>\n",
       "      <td>49</td>\n",
       "      <td>2</td>\n",
       "      <td>3</td>\n",
       "      <td>3</td>\n",
       "    </tr>\n",
       "    <tr>\n",
       "      <th>top</th>\n",
       "      <td>NaN</td>\n",
       "      <td>NaN</td>\n",
       "      <td>NaN</td>\n",
       "      <td>NaN</td>\n",
       "      <td>normal</td>\n",
       "      <td>NaN</td>\n",
       "      <td>NaN</td>\n",
       "      <td>notpresent</td>\n",
       "      <td>NaN</td>\n",
       "      <td>9800</td>\n",
       "      <td>5.2</td>\n",
       "      <td>no</td>\n",
       "      <td>no</td>\n",
       "      <td>ckd</td>\n",
       "    </tr>\n",
       "    <tr>\n",
       "      <th>freq</th>\n",
       "      <td>NaN</td>\n",
       "      <td>NaN</td>\n",
       "      <td>NaN</td>\n",
       "      <td>NaN</td>\n",
       "      <td>201</td>\n",
       "      <td>NaN</td>\n",
       "      <td>NaN</td>\n",
       "      <td>374</td>\n",
       "      <td>NaN</td>\n",
       "      <td>11</td>\n",
       "      <td>18</td>\n",
       "      <td>251</td>\n",
       "      <td>362</td>\n",
       "      <td>248</td>\n",
       "    </tr>\n",
       "    <tr>\n",
       "      <th>mean</th>\n",
       "      <td>51.483376</td>\n",
       "      <td>76.469072</td>\n",
       "      <td>1.016949</td>\n",
       "      <td>0.450142</td>\n",
       "      <td>NaN</td>\n",
       "      <td>148.036517</td>\n",
       "      <td>57.425722</td>\n",
       "      <td>NaN</td>\n",
       "      <td>12.526437</td>\n",
       "      <td>NaN</td>\n",
       "      <td>NaN</td>\n",
       "      <td>NaN</td>\n",
       "      <td>NaN</td>\n",
       "      <td>NaN</td>\n",
       "    </tr>\n",
       "    <tr>\n",
       "      <th>std</th>\n",
       "      <td>17.169714</td>\n",
       "      <td>13.683637</td>\n",
       "      <td>1.352679</td>\n",
       "      <td>1.099191</td>\n",
       "      <td>NaN</td>\n",
       "      <td>79.281714</td>\n",
       "      <td>50.503006</td>\n",
       "      <td>NaN</td>\n",
       "      <td>2.912587</td>\n",
       "      <td>NaN</td>\n",
       "      <td>NaN</td>\n",
       "      <td>NaN</td>\n",
       "      <td>NaN</td>\n",
       "      <td>NaN</td>\n",
       "    </tr>\n",
       "    <tr>\n",
       "      <th>min</th>\n",
       "      <td>2.000000</td>\n",
       "      <td>50.000000</td>\n",
       "      <td>0.000000</td>\n",
       "      <td>0.000000</td>\n",
       "      <td>NaN</td>\n",
       "      <td>22.000000</td>\n",
       "      <td>1.500000</td>\n",
       "      <td>NaN</td>\n",
       "      <td>3.100000</td>\n",
       "      <td>NaN</td>\n",
       "      <td>NaN</td>\n",
       "      <td>NaN</td>\n",
       "      <td>NaN</td>\n",
       "      <td>NaN</td>\n",
       "    </tr>\n",
       "    <tr>\n",
       "      <th>25%</th>\n",
       "      <td>42.000000</td>\n",
       "      <td>70.000000</td>\n",
       "      <td>0.000000</td>\n",
       "      <td>0.000000</td>\n",
       "      <td>NaN</td>\n",
       "      <td>99.000000</td>\n",
       "      <td>27.000000</td>\n",
       "      <td>NaN</td>\n",
       "      <td>10.300000</td>\n",
       "      <td>NaN</td>\n",
       "      <td>NaN</td>\n",
       "      <td>NaN</td>\n",
       "      <td>NaN</td>\n",
       "      <td>NaN</td>\n",
       "    </tr>\n",
       "    <tr>\n",
       "      <th>50%</th>\n",
       "      <td>55.000000</td>\n",
       "      <td>80.000000</td>\n",
       "      <td>0.000000</td>\n",
       "      <td>0.000000</td>\n",
       "      <td>NaN</td>\n",
       "      <td>121.000000</td>\n",
       "      <td>42.000000</td>\n",
       "      <td>NaN</td>\n",
       "      <td>12.650000</td>\n",
       "      <td>NaN</td>\n",
       "      <td>NaN</td>\n",
       "      <td>NaN</td>\n",
       "      <td>NaN</td>\n",
       "      <td>NaN</td>\n",
       "    </tr>\n",
       "    <tr>\n",
       "      <th>75%</th>\n",
       "      <td>64.500000</td>\n",
       "      <td>80.000000</td>\n",
       "      <td>2.000000</td>\n",
       "      <td>0.000000</td>\n",
       "      <td>NaN</td>\n",
       "      <td>163.000000</td>\n",
       "      <td>66.000000</td>\n",
       "      <td>NaN</td>\n",
       "      <td>15.000000</td>\n",
       "      <td>NaN</td>\n",
       "      <td>NaN</td>\n",
       "      <td>NaN</td>\n",
       "      <td>NaN</td>\n",
       "      <td>NaN</td>\n",
       "    </tr>\n",
       "    <tr>\n",
       "      <th>max</th>\n",
       "      <td>90.000000</td>\n",
       "      <td>180.000000</td>\n",
       "      <td>5.000000</td>\n",
       "      <td>5.000000</td>\n",
       "      <td>NaN</td>\n",
       "      <td>490.000000</td>\n",
       "      <td>391.000000</td>\n",
       "      <td>NaN</td>\n",
       "      <td>17.800000</td>\n",
       "      <td>NaN</td>\n",
       "      <td>NaN</td>\n",
       "      <td>NaN</td>\n",
       "      <td>NaN</td>\n",
       "      <td>NaN</td>\n",
       "    </tr>\n",
       "  </tbody>\n",
       "</table>\n",
       "</div>"
      ],
      "text/plain": [
       "               age          bp          al          su     rbc         bgr  \\\n",
       "count   391.000000  388.000000  354.000000  351.000000     248  356.000000   \n",
       "unique         NaN         NaN         NaN         NaN       2         NaN   \n",
       "top            NaN         NaN         NaN         NaN  normal         NaN   \n",
       "freq           NaN         NaN         NaN         NaN     201         NaN   \n",
       "mean     51.483376   76.469072    1.016949    0.450142     NaN  148.036517   \n",
       "std      17.169714   13.683637    1.352679    1.099191     NaN   79.281714   \n",
       "min       2.000000   50.000000    0.000000    0.000000     NaN   22.000000   \n",
       "25%      42.000000   70.000000    0.000000    0.000000     NaN   99.000000   \n",
       "50%      55.000000   80.000000    0.000000    0.000000     NaN  121.000000   \n",
       "75%      64.500000   80.000000    2.000000    0.000000     NaN  163.000000   \n",
       "max      90.000000  180.000000    5.000000    5.000000     NaN  490.000000   \n",
       "\n",
       "                bu          ba        hemo    wc   rc  htn  cad classification  \n",
       "count   381.000000         396  348.000000   295  270  398  398            400  \n",
       "unique         NaN           2         NaN    92   49    2    3              3  \n",
       "top            NaN  notpresent         NaN  9800  5.2   no   no            ckd  \n",
       "freq           NaN         374         NaN    11   18  251  362            248  \n",
       "mean     57.425722         NaN   12.526437   NaN  NaN  NaN  NaN            NaN  \n",
       "std      50.503006         NaN    2.912587   NaN  NaN  NaN  NaN            NaN  \n",
       "min       1.500000         NaN    3.100000   NaN  NaN  NaN  NaN            NaN  \n",
       "25%      27.000000         NaN   10.300000   NaN  NaN  NaN  NaN            NaN  \n",
       "50%      42.000000         NaN   12.650000   NaN  NaN  NaN  NaN            NaN  \n",
       "75%      66.000000         NaN   15.000000   NaN  NaN  NaN  NaN            NaN  \n",
       "max     391.000000         NaN   17.800000   NaN  NaN  NaN  NaN            NaN  "
      ]
     },
     "execution_count": 9,
     "metadata": {},
     "output_type": "execute_result"
    }
   ],
   "source": [
    "df.describe(include='all')"
   ]
  },
  {
   "cell_type": "code",
   "execution_count": 10,
   "id": "f8938836",
   "metadata": {},
   "outputs": [
    {
     "name": "stdout",
     "output_type": "stream",
     "text": [
      "<class 'pandas.core.frame.DataFrame'>\n",
      "RangeIndex: 400 entries, 0 to 399\n",
      "Data columns (total 14 columns):\n",
      " #   Column          Non-Null Count  Dtype  \n",
      "---  ------          --------------  -----  \n",
      " 0   age             391 non-null    float64\n",
      " 1   bp              388 non-null    float64\n",
      " 2   al              354 non-null    float64\n",
      " 3   su              351 non-null    float64\n",
      " 4   rbc             248 non-null    object \n",
      " 5   bgr             356 non-null    float64\n",
      " 6   bu              381 non-null    float64\n",
      " 7   ba              396 non-null    object \n",
      " 8   hemo            348 non-null    float64\n",
      " 9   wc              295 non-null    object \n",
      " 10  rc              270 non-null    object \n",
      " 11  htn             398 non-null    object \n",
      " 12  cad             398 non-null    object \n",
      " 13  classification  400 non-null    object \n",
      "dtypes: float64(7), object(7)\n",
      "memory usage: 43.9+ KB\n"
     ]
    }
   ],
   "source": [
    "df.info()"
   ]
  },
  {
   "cell_type": "code",
   "execution_count": 11,
   "id": "dfeaafcb",
   "metadata": {},
   "outputs": [
    {
     "data": {
      "text/plain": [
       "age                 9\n",
       "bp                 12\n",
       "al                 46\n",
       "su                 49\n",
       "rbc               152\n",
       "bgr                44\n",
       "bu                 19\n",
       "ba                  4\n",
       "hemo               52\n",
       "wc                105\n",
       "rc                130\n",
       "htn                 2\n",
       "cad                 2\n",
       "classification      0\n",
       "dtype: int64"
      ]
     },
     "execution_count": 11,
     "metadata": {},
     "output_type": "execute_result"
    }
   ],
   "source": [
    "### checking for null values\n",
    "df.isnull().sum()"
   ]
  },
  {
   "cell_type": "code",
   "execution_count": 12,
   "id": "8697fc0a",
   "metadata": {},
   "outputs": [],
   "source": [
    "### Null values imputation\n",
    "df['age']=df['age'].fillna(df['age'].mean())\n",
    "df['bp']=df['bp'].fillna(df['bp'].mean())\n",
    "df['al']=df['al'].fillna(df['al'].mean())\n",
    "df['su']=df['su'].fillna(df['su'].mean())\n",
    "df['bgr']=df['bgr'].fillna(df['bgr'].mean())\n",
    "df['bu']=df['bu'].fillna(df['bu'].mean())\n",
    "df['hemo']=df['hemo'].fillna(df['hemo'].mean())\n",
    "df['cad']=df['cad'].fillna(df['cad'].mode()[0])\n",
    "df['ba']=df['ba'].fillna(df['ba'].mode()[0])\n",
    "df['rbc']=df['rbc'].fillna(df['rbc'].mode()[0])\n",
    "df['wc']=df['wc'].fillna(df['wc'].mode()[0])\n",
    "df['rc']=df['rc'].fillna(df['rc'].mode()[0])\n",
    "df['htn']=df['htn'].fillna(df['htn'].mode()[0])"
   ]
  },
  {
   "cell_type": "code",
   "execution_count": 13,
   "id": "358f311e",
   "metadata": {},
   "outputs": [
    {
     "data": {
      "text/plain": [
       "age               0\n",
       "bp                0\n",
       "al                0\n",
       "su                0\n",
       "rbc               0\n",
       "bgr               0\n",
       "bu                0\n",
       "ba                0\n",
       "hemo              0\n",
       "wc                0\n",
       "rc                0\n",
       "htn               0\n",
       "cad               0\n",
       "classification    0\n",
       "dtype: int64"
      ]
     },
     "execution_count": 13,
     "metadata": {},
     "output_type": "execute_result"
    }
   ],
   "source": [
    "# We can see now there is no null value in the dataset\n",
    "df.isnull().sum()"
   ]
  },
  {
   "cell_type": "code",
   "execution_count": 14,
   "id": "f2b2ea09",
   "metadata": {},
   "outputs": [
    {
     "data": {
      "image/png": "[encoded data removed]",
      "text/plain": [
       "<Figure size 1440x1440 with 9 Axes>"
      ]
     },
     "metadata": {},
     "output_type": "display_data"
    }
   ],
   "source": [
    "# Lets have look on our dataset visually\n",
    "df.hist()\n",
    "his=plt.gcf()\n",
    "his.set_size_inches(20,20)\n",
    "plt.show()"
   ]
  },
  {
   "cell_type": "markdown",
   "id": "85cff1fb",
   "metadata": {},
   "source": [
    "### Dealing with each feature"
   ]
  },
  {
   "cell_type": "code",
   "execution_count": 15,
   "id": "8e906512",
   "metadata": {},
   "outputs": [
    {
     "data": {
      "text/plain": [
       "Index(['age', 'bp', 'al', 'su', 'rbc', 'bgr', 'bu', 'ba', 'hemo', 'wc', 'rc',\n",
       "       'htn', 'cad', 'classification'],\n",
       "      dtype='object')"
      ]
     },
     "execution_count": 15,
     "metadata": {},
     "output_type": "execute_result"
    }
   ],
   "source": [
    "df.columns"
   ]
  },
  {
   "cell_type": "markdown",
   "id": "ea39c8a5",
   "metadata": {},
   "source": [
    "#### 1)Age"
   ]
  },
  {
   "cell_type": "code",
   "execution_count": 16,
   "id": "2183dc1a",
   "metadata": {},
   "outputs": [
    {
     "data": {
      "text/plain": [
       "60.0    19\n",
       "65.0    17\n",
       "48.0    12\n",
       "50.0    12\n",
       "55.0    12\n",
       "        ..\n",
       "90.0     1\n",
       "27.0     1\n",
       "83.0     1\n",
       "4.0      1\n",
       "79.0     1\n",
       "Name: age, Length: 77, dtype: int64"
      ]
     },
     "execution_count": 16,
     "metadata": {},
     "output_type": "execute_result"
    }
   ],
   "source": [
    "df['age'].value_counts()"
   ]
  },
  {
   "cell_type": "code",
   "execution_count": 17,
   "id": "5c589942",
   "metadata": {},
   "outputs": [],
   "source": [
    "df['age']=df['age'].astype(int)"
   ]
  },
  {
   "cell_type": "code",
   "execution_count": 18,
   "id": "f394d945",
   "metadata": {},
   "outputs": [
    {
     "data": {
      "text/plain": [
       "<seaborn.axisgrid.FacetGrid at 0x2581431a3d0>"
      ]
     },
     "execution_count": 18,
     "metadata": {},
     "output_type": "execute_result"
    },
    {
     "data": {
      "image/png": "[encoded data removed]",
      "text/plain": [
       "<Figure size 360x360 with 1 Axes>"
      ]
     },
     "metadata": {},
     "output_type": "display_data"
    }
   ],
   "source": [
    "sns.displot(df['age'])\n",
    "# We can see distribution og age here"
   ]
  },
  {
   "cell_type": "markdown",
   "id": "d3d481e8",
   "metadata": {},
   "source": [
    "#### 2)Blood pressure"
   ]
  },
  {
   "cell_type": "code",
   "execution_count": 19,
   "id": "c64e584f",
   "metadata": {},
   "outputs": [
    {
     "data": {
      "text/plain": [
       "80.000000     116\n",
       "70.000000     112\n",
       "60.000000      71\n",
       "90.000000      53\n",
       "100.000000     25\n",
       "76.469072      12\n",
       "50.000000       5\n",
       "110.000000      3\n",
       "140.000000      1\n",
       "180.000000      1\n",
       "120.000000      1\n",
       "Name: bp, dtype: int64"
      ]
     },
     "execution_count": 19,
     "metadata": {},
     "output_type": "execute_result"
    }
   ],
   "source": [
    "df['bp'].value_counts()"
   ]
  },
  {
   "cell_type": "code",
   "execution_count": 20,
   "id": "abe66e1a",
   "metadata": {},
   "outputs": [],
   "source": [
    "df['bp']=df['bp'].astype(int)"
   ]
  },
  {
   "cell_type": "code",
   "execution_count": 21,
   "id": "b4b729a8",
   "metadata": {},
   "outputs": [
    {
     "data": {
      "text/plain": [
       "<seaborn.axisgrid.FacetGrid at 0x25814337d30>"
      ]
     },
     "execution_count": 21,
     "metadata": {},
     "output_type": "execute_result"
    },
    {
     "data": {
      "image/png": "[encoded data removed]",
      "text/plain": [
       "<Figure size 360x360 with 1 Axes>"
      ]
     },
     "metadata": {},
     "output_type": "display_data"
    }
   ],
   "source": [
    "sns.displot(df['bp'])\n",
    "# Distribution og blood pressure"
   ]
  },
  {
   "cell_type": "markdown",
   "id": "b8dcd1f1",
   "metadata": {},
   "source": [
    "#### 3)Albumin"
   ]
  },
  {
   "cell_type": "code",
   "execution_count": 22,
   "id": "00807bc4",
   "metadata": {},
   "outputs": [
    {
     "data": {
      "text/plain": [
       "0.000000    199\n",
       "1.016949     46\n",
       "1.000000     44\n",
       "2.000000     43\n",
       "3.000000     43\n",
       "4.000000     24\n",
       "5.000000      1\n",
       "Name: al, dtype: int64"
      ]
     },
     "execution_count": 22,
     "metadata": {},
     "output_type": "execute_result"
    }
   ],
   "source": [
    "df['al'].value_counts()"
   ]
  },
  {
   "cell_type": "code",
   "execution_count": 23,
   "id": "5106d553",
   "metadata": {},
   "outputs": [],
   "source": [
    "df['al']=df['al'].astype(int)"
   ]
  },
  {
   "cell_type": "code",
   "execution_count": 24,
   "id": "93deae30",
   "metadata": {},
   "outputs": [
    {
     "data": {
      "text/plain": [
       "0    199\n",
       "1     90\n",
       "2     43\n",
       "3     43\n",
       "4     24\n",
       "5      1\n",
       "Name: al, dtype: int64"
      ]
     },
     "execution_count": 24,
     "metadata": {},
     "output_type": "execute_result"
    }
   ],
   "source": [
    "df['al'].value_counts()"
   ]
  },
  {
   "cell_type": "code",
   "execution_count": 25,
   "id": "a0bbf1bc",
   "metadata": {},
   "outputs": [
    {
     "data": {
      "text/plain": [
       "<AxesSubplot:xlabel='al', ylabel='count'>"
      ]
     },
     "execution_count": 25,
     "metadata": {},
     "output_type": "execute_result"
    },
    {
     "data": {
      "image/png": "[encoded data removed]",
      "text/plain": [
       "<Figure size 432x288 with 1 Axes>"
      ]
     },
     "metadata": {},
     "output_type": "display_data"
    }
   ],
   "source": [
    "sns.countplot(x='al',data=df,palette='rainbow')\n",
    "# Albumin level is classified on scale of 5"
   ]
  },
  {
   "cell_type": "markdown",
   "id": "d39bb8f8",
   "metadata": {},
   "source": [
    "#### 4)Sugar"
   ]
  },
  {
   "cell_type": "code",
   "execution_count": 26,
   "id": "192afd07",
   "metadata": {},
   "outputs": [
    {
     "data": {
      "text/plain": [
       "0.000000    290\n",
       "0.450142     49\n",
       "2.000000     18\n",
       "3.000000     14\n",
       "4.000000     13\n",
       "1.000000     13\n",
       "5.000000      3\n",
       "Name: su, dtype: int64"
      ]
     },
     "execution_count": 26,
     "metadata": {},
     "output_type": "execute_result"
    }
   ],
   "source": [
    "df['su'].value_counts()"
   ]
  },
  {
   "cell_type": "code",
   "execution_count": 27,
   "id": "bb37efd2",
   "metadata": {},
   "outputs": [],
   "source": [
    "df['su']=df['su'].astype(int)"
   ]
  },
  {
   "cell_type": "code",
   "execution_count": 28,
   "id": "e3c2b23e",
   "metadata": {},
   "outputs": [
    {
     "data": {
      "text/plain": [
       "0    339\n",
       "2     18\n",
       "3     14\n",
       "4     13\n",
       "1     13\n",
       "5      3\n",
       "Name: su, dtype: int64"
      ]
     },
     "execution_count": 28,
     "metadata": {},
     "output_type": "execute_result"
    }
   ],
   "source": [
    "df['su'].value_counts()"
   ]
  },
  {
   "cell_type": "code",
   "execution_count": 29,
   "id": "cb2752e0",
   "metadata": {},
   "outputs": [
    {
     "data": {
      "text/plain": [
       "<AxesSubplot:xlabel='su', ylabel='count'>"
      ]
     },
     "execution_count": 29,
     "metadata": {},
     "output_type": "execute_result"
    },
    {
     "data": {
      "image/png": "[encoded data removed]",
      "text/plain": [
       "<Figure size 432x288 with 1 Axes>"
      ]
     },
     "metadata": {},
     "output_type": "display_data"
    }
   ],
   "source": [
    "sns.countplot(x='su',data=df,palette='inferno')\n",
    "# Sugar level is also classified on the scale of 5"
   ]
  },
  {
   "cell_type": "markdown",
   "id": "69619242",
   "metadata": {},
   "source": [
    "#### 5)Red blood cells"
   ]
  },
  {
   "cell_type": "code",
   "execution_count": 30,
   "id": "5cc83883",
   "metadata": {},
   "outputs": [
    {
     "data": {
      "text/plain": [
       "normal      353\n",
       "abnormal     47\n",
       "Name: rbc, dtype: int64"
      ]
     },
     "execution_count": 30,
     "metadata": {},
     "output_type": "execute_result"
    }
   ],
   "source": [
    "df['rbc'].value_counts()"
   ]
  },
  {
   "cell_type": "code",
   "execution_count": 31,
   "id": "bfdd141a",
   "metadata": {},
   "outputs": [
    {
     "data": {
      "text/plain": [
       "<AxesSubplot:xlabel='rbc', ylabel='count'>"
      ]
     },
     "execution_count": 31,
     "metadata": {},
     "output_type": "execute_result"
    },
    {
     "data": {
      "image/png": "[encoded data removed]",
      "text/plain": [
       "<Figure size 432x288 with 1 Axes>"
      ]
     },
     "metadata": {},
     "output_type": "display_data"
    }
   ],
   "source": [
    "sns.countplot(x='rbc',data=df,palette='summer')\n",
    "# most of the patients have normal count of red blood cells"
   ]
  },
  {
   "cell_type": "markdown",
   "id": "b8b4627e",
   "metadata": {},
   "source": [
    "#### 6)Blood glucose"
   ]
  },
  {
   "cell_type": "code",
   "execution_count": 32,
   "id": "570213d0",
   "metadata": {},
   "outputs": [
    {
     "data": {
      "text/plain": [
       "148.036517    44\n",
       "99.000000     10\n",
       "93.000000      9\n",
       "100.000000     9\n",
       "107.000000     8\n",
       "              ..\n",
       "380.000000     1\n",
       "288.000000     1\n",
       "84.000000      1\n",
       "256.000000     1\n",
       "309.000000     1\n",
       "Name: bgr, Length: 147, dtype: int64"
      ]
     },
     "execution_count": 32,
     "metadata": {},
     "output_type": "execute_result"
    }
   ],
   "source": [
    "df['bgr'].value_counts()"
   ]
  },
  {
   "cell_type": "code",
   "execution_count": 33,
   "id": "4a0daf6e",
   "metadata": {},
   "outputs": [],
   "source": [
    "df['bgr']=df['bgr'].astype(int)"
   ]
  },
  {
   "cell_type": "code",
   "execution_count": 34,
   "id": "9bf0659d",
   "metadata": {},
   "outputs": [
    {
     "data": {
      "text/plain": [
       "<seaborn.axisgrid.FacetGrid at 0x25813c48d00>"
      ]
     },
     "execution_count": 34,
     "metadata": {},
     "output_type": "execute_result"
    },
    {
     "data": {
      "image/png": "[encoded data removed]",
      "text/plain": [
       "<Figure size 360x360 with 1 Axes>"
      ]
     },
     "metadata": {},
     "output_type": "display_data"
    }
   ],
   "source": [
    "sns.displot(df['bgr'])\n",
    "# We can see distribution of glucose here"
   ]
  },
  {
   "cell_type": "markdown",
   "id": "6500c439",
   "metadata": {},
   "source": [
    "#### 7)Blood urea"
   ]
  },
  {
   "cell_type": "code",
   "execution_count": 35,
   "id": "ec0c7993",
   "metadata": {},
   "outputs": [
    {
     "data": {
      "text/plain": [
       "57.425722     19\n",
       "46.000000     15\n",
       "25.000000     13\n",
       "19.000000     11\n",
       "40.000000     10\n",
       "              ..\n",
       "322.000000     1\n",
       "162.000000     1\n",
       "235.000000     1\n",
       "85.000000      1\n",
       "165.000000     1\n",
       "Name: bu, Length: 119, dtype: int64"
      ]
     },
     "execution_count": 35,
     "metadata": {},
     "output_type": "execute_result"
    }
   ],
   "source": [
    "df['bu'].value_counts()"
   ]
  },
  {
   "cell_type": "code",
   "execution_count": 36,
   "id": "d49495c3",
   "metadata": {},
   "outputs": [],
   "source": [
    "df['bu']=df['bu'].astype(int)"
   ]
  },
  {
   "cell_type": "code",
   "execution_count": 37,
   "id": "e65398b4",
   "metadata": {},
   "outputs": [
    {
     "data": {
      "text/plain": [
       "<seaborn.axisgrid.FacetGrid at 0x25813cae820>"
      ]
     },
     "execution_count": 37,
     "metadata": {},
     "output_type": "execute_result"
    },
    {
     "data": {
      "image/png": "[encoded data removed]",
      "text/plain": [
       "<Figure size 360x360 with 1 Axes>"
      ]
     },
     "metadata": {},
     "output_type": "display_data"
    }
   ],
   "source": [
    "sns.displot(df['bu'])\n",
    "# distribution of blood urea level"
   ]
  },
  {
   "cell_type": "markdown",
   "id": "7c335927",
   "metadata": {},
   "source": [
    "#### 8)Bacteria"
   ]
  },
  {
   "cell_type": "code",
   "execution_count": 38,
   "id": "502f4092",
   "metadata": {},
   "outputs": [
    {
     "data": {
      "text/plain": [
       "notpresent    378\n",
       "present        22\n",
       "Name: ba, dtype: int64"
      ]
     },
     "execution_count": 38,
     "metadata": {},
     "output_type": "execute_result"
    }
   ],
   "source": [
    "df['ba'].value_counts()"
   ]
  },
  {
   "cell_type": "code",
   "execution_count": 39,
   "id": "793b38b9",
   "metadata": {},
   "outputs": [
    {
     "data": {
      "text/plain": [
       "<AxesSubplot:xlabel='ba', ylabel='count'>"
      ]
     },
     "execution_count": 39,
     "metadata": {},
     "output_type": "execute_result"
    },
    {
     "data": {
      "image/png": "[encoded data removed]",
      "text/plain": [
       "<Figure size 432x288 with 1 Axes>"
      ]
     },
     "metadata": {},
     "output_type": "display_data"
    }
   ],
   "source": [
    "sns.countplot(x='ba',data=df,palette='autumn')\n",
    "# We can see that most of the people do not hva e bacteria"
   ]
  },
  {
   "cell_type": "markdown",
   "id": "86ac5657",
   "metadata": {},
   "source": [
    "#### 9)Hemoglobin"
   ]
  },
  {
   "cell_type": "code",
   "execution_count": 40,
   "id": "6e089aa9",
   "metadata": {},
   "outputs": [
    {
     "data": {
      "text/plain": [
       "12.526437    52\n",
       "15.000000    16\n",
       "10.900000     8\n",
       "13.600000     7\n",
       "13.000000     7\n",
       "             ..\n",
       "6.800000      1\n",
       "8.500000      1\n",
       "7.300000      1\n",
       "12.800000     1\n",
       "17.600000     1\n",
       "Name: hemo, Length: 116, dtype: int64"
      ]
     },
     "execution_count": 40,
     "metadata": {},
     "output_type": "execute_result"
    }
   ],
   "source": [
    "df['hemo'].value_counts()"
   ]
  },
  {
   "cell_type": "code",
   "execution_count": 41,
   "id": "c257cef8",
   "metadata": {},
   "outputs": [],
   "source": [
    "df['hemo']=df['hemo'].astype(int)"
   ]
  },
  {
   "cell_type": "code",
   "execution_count": 42,
   "id": "3da64b29",
   "metadata": {},
   "outputs": [
    {
     "data": {
      "text/plain": [
       "<AxesSubplot:xlabel='hemo', ylabel='count'>"
      ]
     },
     "execution_count": 42,
     "metadata": {},
     "output_type": "execute_result"
    },
    {
     "data": {
      "image/png": "[encoded data removed]",
      "text/plain": [
       "<Figure size 432x288 with 1 Axes>"
      ]
     },
     "metadata": {},
     "output_type": "display_data"
    }
   ],
   "source": [
    "sns.countplot(x='hemo',data=df)\n",
    "# Hemoglobin level is distributed on scale of 17"
   ]
  },
  {
   "cell_type": "markdown",
   "id": "35b1c613",
   "metadata": {},
   "source": [
    "#### 10)White blood cells count"
   ]
  },
  {
   "cell_type": "code",
   "execution_count": 43,
   "id": "059a4663",
   "metadata": {},
   "outputs": [
    {
     "data": {
      "text/plain": [
       "9800     116\n",
       "6700      10\n",
       "9600       9\n",
       "7200       9\n",
       "9200       9\n",
       "        ... \n",
       "19100      1\n",
       "\\t?        1\n",
       "12300      1\n",
       "14900      1\n",
       "12700      1\n",
       "Name: wc, Length: 92, dtype: int64"
      ]
     },
     "execution_count": 43,
     "metadata": {},
     "output_type": "execute_result"
    }
   ],
   "source": [
    "df['wc'].value_counts()"
   ]
  },
  {
   "cell_type": "code",
   "execution_count": 44,
   "id": "c9430159",
   "metadata": {},
   "outputs": [],
   "source": [
    "df=df[df.wc!='\\t?']"
   ]
  },
  {
   "cell_type": "code",
   "execution_count": 45,
   "id": "7e7d339a",
   "metadata": {},
   "outputs": [
    {
     "data": {
      "text/plain": [
       "9800     116\n",
       "6700      10\n",
       "9200       9\n",
       "9600       9\n",
       "7200       9\n",
       "        ... \n",
       "11200      1\n",
       "19100      1\n",
       "12300      1\n",
       "12700      1\n",
       "16700      1\n",
       "Name: wc, Length: 91, dtype: int64"
      ]
     },
     "execution_count": 45,
     "metadata": {},
     "output_type": "execute_result"
    }
   ],
   "source": [
    "df['wc'].value_counts()"
   ]
  },
  {
   "cell_type": "code",
   "execution_count": 46,
   "id": "c1699b74",
   "metadata": {},
   "outputs": [],
   "source": [
    "df['wc']=df['wc'].astype(int)"
   ]
  },
  {
   "cell_type": "code",
   "execution_count": 47,
   "id": "b3848e0f",
   "metadata": {},
   "outputs": [
    {
     "data": {
      "text/plain": [
       "dtype('int32')"
      ]
     },
     "execution_count": 47,
     "metadata": {},
     "output_type": "execute_result"
    }
   ],
   "source": [
    "df['wc'].dtype"
   ]
  },
  {
   "cell_type": "code",
   "execution_count": 48,
   "id": "7d6c7291",
   "metadata": {},
   "outputs": [
    {
     "data": {
      "text/plain": [
       "<seaborn.axisgrid.FacetGrid at 0x25813f25310>"
      ]
     },
     "execution_count": 48,
     "metadata": {},
     "output_type": "execute_result"
    },
    {
     "data": {
      "image/png": "[encoded data removed]",
      "text/plain": [
       "<Figure size 360x360 with 1 Axes>"
      ]
     },
     "metadata": {},
     "output_type": "display_data"
    }
   ],
   "source": [
    "sns.displot(df['wc'])\n",
    "# Distribution of white blood cells"
   ]
  },
  {
   "cell_type": "markdown",
   "id": "03b2b5cf",
   "metadata": {},
   "source": [
    "#### 11)Red blood cells count"
   ]
  },
  {
   "cell_type": "code",
   "execution_count": 49,
   "id": "04bc5978",
   "metadata": {},
   "outputs": [
    {
     "data": {
      "text/plain": [
       "5.2    147\n",
       "4.5     16\n",
       "4.9     14\n",
       "4.7     11\n",
       "4.8     10\n",
       "3.9     10\n",
       "4.6      9\n",
       "3.4      9\n",
       "5.9      8\n",
       "5.5      8\n",
       "6.1      8\n",
       "5.0      8\n",
       "3.7      8\n",
       "5.3      7\n",
       "5.8      7\n",
       "5.4      7\n",
       "3.8      7\n",
       "5.6      6\n",
       "4.3      6\n",
       "4.2      6\n",
       "3.2      5\n",
       "4.4      5\n",
       "5.7      5\n",
       "6.4      5\n",
       "5.1      5\n",
       "6.2      5\n",
       "6.5      5\n",
       "4.1      5\n",
       "3.6      4\n",
       "6.3      4\n",
       "6.0      4\n",
       "4.0      3\n",
       "3.3      3\n",
       "4        3\n",
       "3.5      3\n",
       "2.9      2\n",
       "3.1      2\n",
       "2.6      2\n",
       "2.1      2\n",
       "2.5      2\n",
       "2.8      2\n",
       "3.0      2\n",
       "2.7      2\n",
       "5        2\n",
       "2.3      1\n",
       "\\t?      1\n",
       "2.4      1\n",
       "3        1\n",
       "8.0      1\n",
       "Name: rc, dtype: int64"
      ]
     },
     "execution_count": 49,
     "metadata": {},
     "output_type": "execute_result"
    }
   ],
   "source": [
    "df['rc'].value_counts()"
   ]
  },
  {
   "cell_type": "code",
   "execution_count": 50,
   "id": "8b94e92c",
   "metadata": {},
   "outputs": [],
   "source": [
    "df=df[df.rc!='\\t?']"
   ]
  },
  {
   "cell_type": "code",
   "execution_count": 51,
   "id": "a345236b",
   "metadata": {},
   "outputs": [
    {
     "data": {
      "text/plain": [
       "5.2    147\n",
       "4.5     16\n",
       "4.9     14\n",
       "4.7     11\n",
       "4.8     10\n",
       "3.9     10\n",
       "4.6      9\n",
       "3.4      9\n",
       "5.9      8\n",
       "5.5      8\n",
       "6.1      8\n",
       "5.0      8\n",
       "3.7      8\n",
       "5.3      7\n",
       "5.8      7\n",
       "5.4      7\n",
       "3.8      7\n",
       "5.6      6\n",
       "4.3      6\n",
       "4.2      6\n",
       "3.2      5\n",
       "4.4      5\n",
       "5.7      5\n",
       "6.4      5\n",
       "5.1      5\n",
       "6.2      5\n",
       "6.5      5\n",
       "4.1      5\n",
       "3.6      4\n",
       "6.0      4\n",
       "6.3      4\n",
       "4.0      3\n",
       "3.5      3\n",
       "3.3      3\n",
       "4        3\n",
       "5        2\n",
       "3.1      2\n",
       "2.6      2\n",
       "2.1      2\n",
       "2.9      2\n",
       "2.5      2\n",
       "3.0      2\n",
       "2.7      2\n",
       "2.8      2\n",
       "2.3      1\n",
       "2.4      1\n",
       "3        1\n",
       "8.0      1\n",
       "Name: rc, dtype: int64"
      ]
     },
     "execution_count": 51,
     "metadata": {},
     "output_type": "execute_result"
    }
   ],
   "source": [
    "df.rc.value_counts()"
   ]
  },
  {
   "cell_type": "code",
   "execution_count": 52,
   "id": "aca41b16",
   "metadata": {},
   "outputs": [],
   "source": [
    "df['rc']=df['rc'].astype('float')"
   ]
  },
  {
   "cell_type": "code",
   "execution_count": 53,
   "id": "acafd20b",
   "metadata": {},
   "outputs": [
    {
     "data": {
      "text/plain": [
       "dtype('float64')"
      ]
     },
     "execution_count": 53,
     "metadata": {},
     "output_type": "execute_result"
    }
   ],
   "source": [
    "df['rc'].dtype"
   ]
  },
  {
   "cell_type": "code",
   "execution_count": 54,
   "id": "89d6cd79",
   "metadata": {},
   "outputs": [
    {
     "data": {
      "text/plain": [
       "<seaborn.axisgrid.FacetGrid at 0x25813c9fb20>"
      ]
     },
     "execution_count": 54,
     "metadata": {},
     "output_type": "execute_result"
    },
    {
     "data": {
      "image/png": "[encoded data removed]",
      "text/plain": [
       "<Figure size 360x360 with 1 Axes>"
      ]
     },
     "metadata": {},
     "output_type": "display_data"
    }
   ],
   "source": [
    "sns.displot(df['rc'])\n",
    "# distribution of red blood cells"
   ]
  },
  {
   "cell_type": "markdown",
   "id": "3f35e00d",
   "metadata": {},
   "source": [
    "#### 12) Hypertension"
   ]
  },
  {
   "cell_type": "code",
   "execution_count": 55,
   "id": "f0313736",
   "metadata": {},
   "outputs": [
    {
     "data": {
      "text/plain": [
       "no     251\n",
       "yes    147\n",
       "Name: htn, dtype: int64"
      ]
     },
     "execution_count": 55,
     "metadata": {},
     "output_type": "execute_result"
    }
   ],
   "source": [
    "df['htn'].value_counts()"
   ]
  },
  {
   "cell_type": "code",
   "execution_count": 56,
   "id": "469d5feb",
   "metadata": {},
   "outputs": [
    {
     "data": {
      "text/plain": [
       "<AxesSubplot:xlabel='htn', ylabel='count'>"
      ]
     },
     "execution_count": 56,
     "metadata": {},
     "output_type": "execute_result"
    },
    {
     "data": {
      "image/png": "[encoded data removed]",
      "text/plain": [
       "<Figure size 432x288 with 1 Axes>"
      ]
     },
     "metadata": {},
     "output_type": "display_data"
    }
   ],
   "source": [
    "sns.countplot(x='htn',data=df,palette='winter')\n",
    "### Number of people having hypertension is half as compared to people not having hyper tension"
   ]
  },
  {
   "cell_type": "markdown",
   "id": "3e0de0d6",
   "metadata": {},
   "source": [
    "#### 13)Coronary artery disease"
   ]
  },
  {
   "cell_type": "code",
   "execution_count": 57,
   "id": "6278504d",
   "metadata": {},
   "outputs": [
    {
     "data": {
      "text/plain": [
       "no      362\n",
       "yes      34\n",
       "\\tno      2\n",
       "Name: cad, dtype: int64"
      ]
     },
     "execution_count": 57,
     "metadata": {},
     "output_type": "execute_result"
    }
   ],
   "source": [
    "df['cad'].value_counts()"
   ]
  },
  {
   "cell_type": "code",
   "execution_count": 58,
   "id": "23356370",
   "metadata": {},
   "outputs": [],
   "source": [
    "df=df[df.cad!='\\tno']"
   ]
  },
  {
   "cell_type": "code",
   "execution_count": 59,
   "id": "470c952c",
   "metadata": {},
   "outputs": [
    {
     "data": {
      "text/plain": [
       "no     362\n",
       "yes     34\n",
       "Name: cad, dtype: int64"
      ]
     },
     "execution_count": 59,
     "metadata": {},
     "output_type": "execute_result"
    }
   ],
   "source": [
    "df['cad'].value_counts()"
   ]
  },
  {
   "cell_type": "code",
   "execution_count": 60,
   "id": "57454020",
   "metadata": {},
   "outputs": [
    {
     "data": {
      "text/plain": [
       "<AxesSubplot:xlabel='cad', ylabel='count'>"
      ]
     },
     "execution_count": 60,
     "metadata": {},
     "output_type": "execute_result"
    },
    {
     "data": {
      "image/png": "[encoded data removed]",
      "text/plain": [
       "<Figure size 432x288 with 1 Axes>"
      ]
     },
     "metadata": {},
     "output_type": "display_data"
    }
   ],
   "source": [
    "sns.countplot(x='cad',data=df,palette='spring')\n",
    "# There is huge difference between people having coronary artery disease and not having it"
   ]
  },
  {
   "cell_type": "markdown",
   "id": "26e9542e",
   "metadata": {},
   "source": [
    "#### 14) Classification"
   ]
  },
  {
   "cell_type": "code",
   "execution_count": 61,
   "id": "9a009615",
   "metadata": {},
   "outputs": [
    {
     "data": {
      "text/plain": [
       "ckd       244\n",
       "notckd    150\n",
       "ckd\\t       2\n",
       "Name: classification, dtype: int64"
      ]
     },
     "execution_count": 61,
     "metadata": {},
     "output_type": "execute_result"
    }
   ],
   "source": [
    "df['classification'].value_counts()"
   ]
  },
  {
   "cell_type": "code",
   "execution_count": 62,
   "id": "adfd97b4",
   "metadata": {},
   "outputs": [],
   "source": [
    "df=df[df.classification!='ckd\\t']"
   ]
  },
  {
   "cell_type": "code",
   "execution_count": 63,
   "id": "30ae95f0",
   "metadata": {},
   "outputs": [
    {
     "data": {
      "text/plain": [
       "ckd       244\n",
       "notckd    150\n",
       "Name: classification, dtype: int64"
      ]
     },
     "execution_count": 63,
     "metadata": {},
     "output_type": "execute_result"
    }
   ],
   "source": [
    "df['classification'].value_counts()"
   ]
  },
  {
   "cell_type": "code",
   "execution_count": 64,
   "id": "5df7799c",
   "metadata": {},
   "outputs": [
    {
     "data": {
      "text/plain": [
       "<AxesSubplot:xlabel='classification', ylabel='count'>"
      ]
     },
     "execution_count": 64,
     "metadata": {},
     "output_type": "execute_result"
    },
    {
     "data": {
      "image/png": "[encoded data removed]",
      "text/plain": [
       "<Figure size 432x288 with 1 Axes>"
      ]
     },
     "metadata": {},
     "output_type": "display_data"
    }
   ],
   "source": [
    "sns.countplot(x='classification',data=df,palette='BuPu')\n",
    "# We can say that we have well balanced dataset here"
   ]
  },
  {
   "cell_type": "code",
   "execution_count": 65,
   "id": "a057f783",
   "metadata": {},
   "outputs": [
    {
     "data": {
      "text/plain": [
       "age                 int32\n",
       "bp                  int32\n",
       "al                  int32\n",
       "su                  int32\n",
       "rbc                object\n",
       "bgr                 int32\n",
       "bu                  int32\n",
       "ba                 object\n",
       "hemo                int32\n",
       "wc                  int32\n",
       "rc                float64\n",
       "htn                object\n",
       "cad                object\n",
       "classification     object\n",
       "dtype: object"
      ]
     },
     "execution_count": 65,
     "metadata": {},
     "output_type": "execute_result"
    }
   ],
   "source": [
    "df.dtypes"
   ]
  },
  {
   "cell_type": "code",
   "execution_count": 66,
   "id": "c8c478fb",
   "metadata": {},
   "outputs": [],
   "source": [
    "#### We are going to perform label encoding for categorical variables here\n",
    "from sklearn.preprocessing import LabelEncoder\n",
    "le=LabelEncoder()\n",
    "df['rbc']=le.fit_transform(df['rbc'])\n",
    "df['ba']=le.fit_transform(df['ba'])\n",
    "df['htn']=le.fit_transform(df['htn'])\n",
    "df['cad']=le.fit_transform(df['cad'])\n",
    "df['classification']=le.fit_transform(df['classification'])\n"
   ]
  },
  {
   "cell_type": "code",
   "execution_count": 67,
   "id": "a9677fd3",
   "metadata": {},
   "outputs": [
    {
     "data": {
      "text/plain": [
       "age                 int32\n",
       "bp                  int32\n",
       "al                  int32\n",
       "su                  int32\n",
       "rbc                 int32\n",
       "bgr                 int32\n",
       "bu                  int32\n",
       "ba                  int32\n",
       "hemo                int32\n",
       "wc                  int32\n",
       "rc                float64\n",
       "htn                 int32\n",
       "cad                 int32\n",
       "classification      int32\n",
       "dtype: object"
      ]
     },
     "execution_count": 67,
     "metadata": {},
     "output_type": "execute_result"
    }
   ],
   "source": [
    "df.dtypes"
   ]
  },
  {
   "cell_type": "code",
   "execution_count": 68,
   "id": "5558c417",
   "metadata": {},
   "outputs": [
    {
     "data": {
      "text/plain": [
       "<AxesSubplot:>"
      ]
     },
     "execution_count": 68,
     "metadata": {},
     "output_type": "execute_result"
    },
    {
     "data": {
      "image/png": "[encoded data removed]",
      "text/plain": [
       "<Figure size 936x720 with 2 Axes>"
      ]
     },
     "metadata": {},
     "output_type": "display_data"
    }
   ],
   "source": [
    "plt.figure(figsize=(13,10))\n",
    "sns.heatmap(df.corr(),annot=True,cmap='seismic')"
   ]
  },
  {
   "cell_type": "markdown",
   "id": "21ec3fd1",
   "metadata": {},
   "source": [
    "#### Analysis and preprocessing ends here"
   ]
  },
  {
   "cell_type": "code",
   "execution_count": 69,
   "id": "c92f29d4",
   "metadata": {},
   "outputs": [
    {
     "data": {
      "text/plain": [
       "(394, 14)"
      ]
     },
     "execution_count": 69,
     "metadata": {},
     "output_type": "execute_result"
    }
   ],
   "source": [
    "df.shape"
   ]
  },
  {
   "cell_type": "markdown",
   "id": "b990833f",
   "metadata": {},
   "source": [
    "### Separating dependent and independent variables"
   ]
  },
  {
   "cell_type": "code",
   "execution_count": 70,
   "id": "775f99d0",
   "metadata": {},
   "outputs": [],
   "source": [
    "X=df.drop('classification',axis=1)\n",
    "y=df.classification"
   ]
  },
  {
   "cell_type": "code",
   "execution_count": 71,
   "id": "3b3502d9",
   "metadata": {},
   "outputs": [
    {
     "data": {
      "text/plain": [
       "(394, 13)"
      ]
     },
     "execution_count": 71,
     "metadata": {},
     "output_type": "execute_result"
    }
   ],
   "source": [
    "X.shape"
   ]
  },
  {
   "cell_type": "code",
   "execution_count": 72,
   "id": "bbe59fd1",
   "metadata": {},
   "outputs": [
    {
     "data": {
      "text/plain": [
       "(394,)"
      ]
     },
     "execution_count": 72,
     "metadata": {},
     "output_type": "execute_result"
    }
   ],
   "source": [
    "y.shape"
   ]
  },
  {
   "cell_type": "markdown",
   "id": "ce290f1a",
   "metadata": {},
   "source": [
    "### Performing train-test-split"
   ]
  },
  {
   "cell_type": "code",
   "execution_count": 73,
   "id": "e40a9fe7",
   "metadata": {},
   "outputs": [],
   "source": [
    "from sklearn.model_selection import train_test_split\n",
    "X_train,X_test,y_train,y_test=train_test_split(X,y,test_size=0.2,random_state=42)"
   ]
  },
  {
   "cell_type": "markdown",
   "id": "08ddbf32",
   "metadata": {},
   "source": [
    "### Trying out several algorithms"
   ]
  },
  {
   "cell_type": "code",
   "execution_count": 74,
   "id": "d32955e5",
   "metadata": {},
   "outputs": [],
   "source": [
    "from sklearn.linear_model import LogisticRegression\n",
    "from sklearn.tree import DecisionTreeClassifier\n",
    "from sklearn.ensemble import RandomForestClassifier\n",
    "from xgboost import XGBClassifier\n",
    "from sklearn.metrics import f1_score,accuracy_score\n",
    "alg=[LogisticRegression(),DecisionTreeClassifier(),RandomForestClassifier(),XGBClassifier()]\n",
    "names=['LogisticRegression','DecisionTreeClassifier','RandomForestClassifier','XGBClassifer']"
   ]
  },
  {
   "cell_type": "code",
   "execution_count": 75,
   "id": "13847bb6",
   "metadata": {},
   "outputs": [
    {
     "name": "stdout",
     "output_type": "stream",
     "text": [
      "[10:43:30] WARNING: C:/Users/Administrator/workspace/xgboost-win64_release_1.5.1/src/learner.cc:1115: Starting in XGBoost 1.3.0, the default evaluation metric used with the objective 'binary:logistic' was changed from 'error' to 'logloss'. Explicitly set eval_metric if you'd like to restore the old behavior.\n"
     ]
    }
   ],
   "source": [
    "l1=[]\n",
    "l2=[]\n",
    "for i in alg:\n",
    "    model=i\n",
    "    model.fit(X_train,y_train)\n",
    "    y_hat=model.predict(X_test)\n",
    "    accuracy=accuracy_score(y_test,y_hat)\n",
    "    f1=f1_score(y_test,y_hat)\n",
    "    l1.append(accuracy)\n",
    "    l2.append(f1)"
   ]
  },
  {
   "cell_type": "code",
   "execution_count": 76,
   "id": "77a5ca89",
   "metadata": {},
   "outputs": [],
   "source": [
    "eval=pd.DataFrame({'Model':names,\n",
    "                  'Accuracy':l1,'F1-score':l2})"
   ]
  },
  {
   "cell_type": "code",
   "execution_count": 77,
   "id": "b7b43b56",
   "metadata": {},
   "outputs": [
    {
     "data": {
      "text/html": [
       "<div>\n",
       "<style scoped>\n",
       "    .dataframe tbody tr th:only-of-type {\n",
       "        vertical-align: middle;\n",
       "    }\n",
       "\n",
       "    .dataframe tbody tr th {\n",
       "        vertical-align: top;\n",
       "    }\n",
       "\n",
       "    .dataframe thead th {\n",
       "        text-align: right;\n",
       "    }\n",
       "</style>\n",
       "<table border=\"1\" class=\"dataframe\">\n",
       "  <thead>\n",
       "    <tr style=\"text-align: right;\">\n",
       "      <th></th>\n",
       "      <th>Model</th>\n",
       "      <th>Accuracy</th>\n",
       "      <th>F1-score</th>\n",
       "    </tr>\n",
       "  </thead>\n",
       "  <tbody>\n",
       "    <tr>\n",
       "      <th>0</th>\n",
       "      <td>LogisticRegression</td>\n",
       "      <td>0.949367</td>\n",
       "      <td>0.920000</td>\n",
       "    </tr>\n",
       "    <tr>\n",
       "      <th>1</th>\n",
       "      <td>DecisionTreeClassifier</td>\n",
       "      <td>0.987342</td>\n",
       "      <td>0.979592</td>\n",
       "    </tr>\n",
       "    <tr>\n",
       "      <th>2</th>\n",
       "      <td>RandomForestClassifier</td>\n",
       "      <td>0.987342</td>\n",
       "      <td>0.978723</td>\n",
       "    </tr>\n",
       "    <tr>\n",
       "      <th>3</th>\n",
       "      <td>XGBClassifer</td>\n",
       "      <td>0.987342</td>\n",
       "      <td>0.978723</td>\n",
       "    </tr>\n",
       "  </tbody>\n",
       "</table>\n",
       "</div>"
      ],
      "text/plain": [
       "                    Model  Accuracy  F1-score\n",
       "0      LogisticRegression  0.949367  0.920000\n",
       "1  DecisionTreeClassifier  0.987342  0.979592\n",
       "2  RandomForestClassifier  0.987342  0.978723\n",
       "3            XGBClassifer  0.987342  0.978723"
      ]
     },
     "execution_count": 77,
     "metadata": {},
     "output_type": "execute_result"
    }
   ],
   "source": [
    "eval"
   ]
  },
  {
   "cell_type": "markdown",
   "id": "63957791",
   "metadata": {},
   "source": [
    "### Thus it is clear due to highest accuracy we are going to use random forest classifier"
   ]
  },
  {
   "cell_type": "code",
   "execution_count": 78,
   "id": "f18f6fa1",
   "metadata": {},
   "outputs": [],
   "source": [
    "rc=RandomForestClassifier()\n",
    "rc.fit(X_train,y_train)\n",
    "y_hat2=rc.predict(X_test)"
   ]
  },
  {
   "cell_type": "code",
   "execution_count": 79,
   "id": "9cfd5933",
   "metadata": {},
   "outputs": [
    {
     "name": "stdout",
     "output_type": "stream",
     "text": [
      "              precision    recall  f1-score   support\n",
      "\n",
      "           0       0.98      1.00      0.99        55\n",
      "           1       1.00      0.96      0.98        24\n",
      "\n",
      "    accuracy                           0.99        79\n",
      "   macro avg       0.99      0.98      0.98        79\n",
      "weighted avg       0.99      0.99      0.99        79\n",
      "\n"
     ]
    }
   ],
   "source": [
    "from sklearn.metrics import classification_report,confusion_matrix\n",
    "print(classification_report(y_test,y_hat2))"
   ]
  },
  {
   "cell_type": "code",
   "execution_count": 80,
   "id": "7115163e",
   "metadata": {},
   "outputs": [
    {
     "data": {
      "text/plain": [
       "<AxesSubplot:>"
      ]
     },
     "execution_count": 80,
     "metadata": {},
     "output_type": "execute_result"
    },
    {
     "data": {
      "image/png": "[encoded data removed]",
      "text/plain": [
       "<Figure size 432x288 with 2 Axes>"
      ]
     },
     "metadata": {},
     "output_type": "display_data"
    }
   ],
   "source": [
    "a=confusion_matrix(y_test,y_hat2)\n",
    "sns.heatmap(a/np.sum(a),annot=True,fmt='.2%',cmap='inferno')\n",
    "# Thus it is clear that our algorithm succesfully classified 100% of test values right"
   ]
  },
  {
   "cell_type": "code",
   "execution_count": 81,
   "id": "38f265da",
   "metadata": {},
   "outputs": [
    {
     "data": {
      "text/plain": [
       "<AxesSubplot:>"
      ]
     },
     "execution_count": 81,
     "metadata": {},
     "output_type": "execute_result"
    },
    {
     "data": {
      "image/png": "[encoded data removed]",
      "text/plain": [
       "<Figure size 432x288 with 2 Axes>"
      ]
     },
     "metadata": {},
     "output_type": "display_data"
    }
   ],
   "source": [
    "labels = ['True Negative','False Positive','False Negative','True Negative']\n",
    "labels = np.asarray(labels).reshape(2,2)\n",
    "sns.heatmap(a, annot=labels, fmt='', cmap='inferno')"
   ]
  },
  {
   "cell_type": "code",
   "execution_count": null,
   "id": "1c60fc48",
   "metadata": {},
   "outputs": [],
   "source": []
  }
 ],
 "metadata": {
  "kernelspec": {
   "display_name": "Python 3 (ipykernel)",
   "language": "python",
   "name": "python3"
  },
  "language_info": {
   "codemirror_mode": {
    "name": "ipython",
    "version": 3
   },
   "file_extension": ".py",
   "mimetype": "text/x-python",
   "name": "python",
   "nbconvert_exporter": "python",
   "pygments_lexer": "ipython3",
   "version": "3.9.5"
  }
 },
 "nbformat": 4,
 "nbformat_minor": 5
}
